{
 "cells": [
  {
   "cell_type": "markdown",
   "metadata": {},
   "source": [
    "# Import Libraries"
   ]
  },
  {
   "cell_type": "code",
   "execution_count": null,
   "metadata": {},
   "outputs": [],
   "source": [
    "import os\n",
    "from collections import defaultdict"
   ]
  },
  {
   "cell_type": "markdown",
   "metadata": {},
   "source": [
    "# Defining functions"
   ]
  },
  {
   "cell_type": "code",
   "execution_count": null,
   "metadata": {},
   "outputs": [],
   "source": [
    "def get_filename_without_extension(filename):\n",
    "    \"\"\"\n",
    "    Get filename without its extension.\n",
    "    \n",
    "    Args:\n",
    "        filename (str): Full filename with extension\n",
    "        \n",
    "    Returns:\n",
    "        str: Filename without extension\n",
    "    \"\"\"\n",
    "    return os.path.splitext(filename)[0]\n",
    "\n",
    "def find_duplicate_files_by_basename(directory):\n",
    "    \"\"\"\n",
    "    Find duplicate files based on their names (without extensions) in the specified directory and its subdirectories.\n",
    "    \n",
    "    Args:\n",
    "        directory (str): The root directory to start searching from\n",
    "        \n",
    "    Returns:\n",
    "        dict: A dictionary with filenames (without extensions) as keys and lists of full file paths as values\n",
    "    \"\"\"\n",
    "    # Dictionary to store filename (without extension) and its paths\n",
    "    file_dict = defaultdict(list)\n",
    "    \n",
    "    # Walk through directory\n",
    "    for root, dirs, files in os.walk(directory):\n",
    "        for filename in files:\n",
    "            # Get the filename without extension\n",
    "            basename = get_filename_without_extension(filename)\n",
    "            # Get the full path of the file\n",
    "            file_path = os.path.join(root, filename)\n",
    "            # Add the file path to the dictionary using basename as key\n",
    "            file_dict[basename].append(file_path)\n",
    "    \n",
    "    # Filter out files that don't have duplicates\n",
    "    duplicate_files = {k: v for k, v in file_dict.items() if len(v) > 1}\n",
    "    \n",
    "    return duplicate_files\n",
    "\n",
    "def print_duplicate_files(duplicates):\n",
    "    \"\"\"\n",
    "    Print the duplicate files in a formatted way.\n",
    "    \n",
    "    Args:\n",
    "        duplicates (dict): Dictionary containing duplicate files\n",
    "    \"\"\"\n",
    "    if not duplicates:\n",
    "        print(\"No duplicate files found!\")\n",
    "        return\n",
    "    \n",
    "    print(\"\\nDuplicate files found:\")\n",
    "    print(\"-\" * 50)\n",
    "    \n",
    "    for basename, file_paths in duplicates.items():\n",
    "        print(f\"\\nBase filename: {basename}\")\n",
    "        print(\"Duplicates found:\")\n",
    "        for path in file_paths:\n",
    "            print(f\"  - {path}\")\n",
    "        print(\"-\" * 50)\n",
    "\n",
    "def main():\n",
    "    # Get directory path from user\n",
    "    while True:\n",
    "        directory = input(\"Enter the directory path to search for duplicates: \").strip()\n",
    "        if os.path.isdir(directory):\n",
    "            break\n",
    "        print(\"Invalid directory path. Please try again.\")\n",
    "    \n",
    "    # Find duplicates\n",
    "    print(\"\\nSearching for duplicate files...\")\n",
    "    duplicates = find_duplicate_files_by_basename(directory)\n",
    "    \n",
    "    # Print results\n",
    "    print_duplicate_files(duplicates)\n",
    "    \n",
    "    # Print summary\n",
    "    total_duplicate_files = sum(len(paths) for paths in duplicates.values())\n",
    "    unique_duplicate_names = len(duplicates)\n",
    "    \n",
    "    if total_duplicate_files > 0:\n",
    "        print(f\"\\nSummary:\")\n",
    "        print(f\"Total duplicate files found: {total_duplicate_files}\")\n",
    "        print(f\"Unique filenames with duplicates: {unique_duplicate_names}\")\n"
   ]
  },
  {
   "cell_type": "markdown",
   "metadata": {},
   "source": [
    "# Delete duplicate files"
   ]
  },
  {
   "cell_type": "code",
   "execution_count": null,
   "metadata": {},
   "outputs": [
    {
     "name": "stdout",
     "output_type": "stream",
     "text": [
      "\n",
      "Searching for duplicate files...\n",
      "No duplicate files found!\n"
     ]
    }
   ],
   "source": [
    "if __name__ == \"__main__\":\n",
    "    try:\n",
    "        main()\n",
    "    except KeyboardInterrupt:\n",
    "        print(\"\\nOperation cancelled by user.\")\n",
    "    except Exception as e:\n",
    "        print(f\"\\nAn error occurred: {str(e)}\")"
   ]
  }
 ],
 "metadata": {
  "kernelspec": {
   "display_name": "Python 3",
   "language": "python",
   "name": "python3"
  },
  "language_info": {
   "codemirror_mode": {
    "name": "ipython",
    "version": 3
   },
   "file_extension": ".py",
   "mimetype": "text/x-python",
   "name": "python",
   "nbconvert_exporter": "python",
   "pygments_lexer": "ipython3",
   "version": "3.12.7"
  }
 },
 "nbformat": 4,
 "nbformat_minor": 2
}
